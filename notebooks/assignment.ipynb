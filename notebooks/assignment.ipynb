{
 "cells": [
  {
   "cell_type": "markdown",
   "id": "67d0db2b",
   "metadata": {},
   "source": [
    "# Assignment\n",
    "\n",
    "## Brief\n",
    "\n",
    "Write the Python codes for the following questions.\n",
    "\n",
    "## Instructions\n",
    "\n",
    "Paste the answer as Python in the answer code section below each question.\n",
    "\n",
    "### Question 1\n",
    "\n",
    "Question: Implement a simple Thrift server and client that defines a `Student` struct with fields `name` (string), `age` (integer), and `courses` (list of strings). Include a service `School` with a method `enrollCourse` that takes a `Student` record and a course name, adds the course to the student's course list, and returns the updated `Student` record.\n",
    "\n",
    "Answer:"
   ]
  },
  {
   "cell_type": "code",
   "execution_count": null,
   "id": "d1c18f28",
   "metadata": {},
   "outputs": [],
   "source": [
    "# Thrift schema (student.thrift)\n",
    "\n",
    "# Thrift server (student_server.py)\n",
    "\n",
    "# Thrift client (student_client.py)\n"
   ]
  },
  {
   "cell_type": "code",
   "execution_count": null,
   "id": "119517e2",
   "metadata": {},
   "outputs": [],
   "source": [
    "%%writefile ../schema/student.thrift\n",
    "\n",
    "struct Student {\n",
    "  1: required string name,\n",
    "  2: optional i64 age,\n",
    "  3: optional list<string> courses\n",
    "}\n",
    "\n",
    "service School {\n",
    "  Student enrollCourse(1: required Student student 2: required list<string> courses)\n",
    "}"
   ]
  },
  {
   "cell_type": "code",
   "execution_count": null,
   "id": "e3dcf29a",
   "metadata": {},
   "outputs": [],
   "source": [
    "%%writefile ../student_thrift_server.py\n",
    "import thriftpy2\n",
    "student_thrift = thriftpy2.load(\"./schema/student.thrift\", module_name=\"student_thrift\")\n",
    "\n",
    "from thriftpy2.rpc import make_server\n",
    "\n",
    "class School(object):\n",
    "  def enrollCourse(self, student, courses):\n",
    "    for course in courses:\n",
    "      student.courses.append(course)\n",
    "    return student\n",
    "\n",
    "server = make_server(student_thrift.School, School(), client_timeout=None)\n",
    "server.serve()"
   ]
  },
  {
   "cell_type": "markdown",
   "id": "bc38608f",
   "metadata": {},
   "source": [
    "Run `python student_thrift_server.py` in terminal to start the server."
   ]
  },
  {
   "cell_type": "code",
   "execution_count": 11,
   "id": "4f2fbafa",
   "metadata": {},
   "outputs": [
    {
     "name": "stdout",
     "output_type": "stream",
     "text": [
      "Available methods: ['enrollCourse']\n"
     ]
    }
   ],
   "source": [
    "import thriftpy2\n",
    "student_thrift = thriftpy2.load(\"../schema/student.thrift\", module_name=\"student_thrift\")\n",
    "\n",
    "from thriftpy2.rpc import make_client\n",
    "\n",
    "school = make_client(student_thrift.School, timeout=None)\n",
    "\n",
    "# Test that the method exists\n",
    "print(\"Available methods:\", [method for method in dir(school) if not method.startswith('_')])\n",
    "\n",
    "# Create a student record\n",
    "adam = student_thrift.Student(\n",
    "    name=\"Adam\", age=16, courses=[\"Mathematics\", \"History\"]\n",
    ")"
   ]
  },
  {
   "cell_type": "code",
   "execution_count": 12,
   "id": "248239a0",
   "metadata": {},
   "outputs": [
    {
     "data": {
      "text/plain": [
       "Student(name='Adam', age=16, courses=['Mathematics', 'History', 'coding'])"
      ]
     },
     "execution_count": 12,
     "metadata": {},
     "output_type": "execute_result"
    }
   ],
   "source": [
    "adam = school.enrollCourse(adam, [\"coding\"])\n",
    "adam "
   ]
  },
  {
   "cell_type": "markdown",
   "id": "0687813a",
   "metadata": {},
   "source": [
    "### Question 2\n",
    "\n",
    "Question: Implement a simple Protocol Buffers server and client that defines a `Book` message with fields `title` (string), `author` (string), and `page_count` (integer). Include a service `Library` with a method `checkoutBook` that takes a `Book` message and returns the same `Book` message.\n",
    "\n",
    "Answer:"
   ]
  },
  {
   "cell_type": "code",
   "execution_count": null,
   "id": "284aadf6",
   "metadata": {},
   "outputs": [],
   "source": [
    "# Protobuf schema (book.proto)\n",
    "\n",
    "# Protobuf server (book_server.py)\n",
    "\n",
    "# Protobuf client (book_client.py)\n"
   ]
  },
  {
   "cell_type": "code",
   "execution_count": 17,
   "id": "d8df9f92",
   "metadata": {},
   "outputs": [
    {
     "name": "stdout",
     "output_type": "stream",
     "text": [
      "Overwriting ../schema/book.proto\n"
     ]
    }
   ],
   "source": [
    "%%writefile ../schema/book.proto\n",
    "syntax = \"proto3\";\n",
    "\n",
    "message Book {\n",
    "  string title = 1;\n",
    "  optional string author = 2;\n",
    "  optional int32 page_count = 3;\n",
    "}\n",
    "\n",
    "message checkoutBookRequest {\n",
    "  Book book = 1;\n",
    "}\n",
    "\n",
    "service Library {\n",
    "  rpc checkoutBook(checkoutBookRequest) returns (Book) {}\n",
    "}"
   ]
  },
  {
   "cell_type": "markdown",
   "id": "4203edd0",
   "metadata": {},
   "source": [
    "run `python -m grpc_tools.protoc -I./schema --python_out=. --grpc_python_out=. ./schema/book.proto`\n",
    "\n",
    "This will generate the following files:\n",
    "\n",
    "`book_pb2.py`\n",
    "\n",
    "`book_pb2_grpc.py`"
   ]
  },
  {
   "cell_type": "code",
   "execution_count": 18,
   "id": "4be97380",
   "metadata": {},
   "outputs": [
    {
     "name": "stdout",
     "output_type": "stream",
     "text": [
      "Overwriting ../book_protobuf_server.py\n"
     ]
    }
   ],
   "source": [
    "%%writefile ../book_protobuf_server.py\n",
    "from concurrent import futures\n",
    "import grpc\n",
    "import book_pb2_grpc\n",
    "\n",
    "\n",
    "class Library(book_pb2_grpc.LibraryServicer):\n",
    "\n",
    "  def checkoutBook(self, request, context):\n",
    "    return request.book\n",
    "\n",
    "server = grpc.server(futures.ThreadPoolExecutor(max_workers=2))\n",
    "book_pb2_grpc.add_LibraryServicer_to_server(\n",
    "    Library(), server)\n",
    "server.add_insecure_port('[::]:50051')\n",
    "server.start()\n",
    "server.wait_for_termination()"
   ]
  },
  {
   "cell_type": "markdown",
   "id": "b5ce94d7",
   "metadata": {},
   "source": [
    "Run `python book_protobuf_server.py` in a new terminal to start the server"
   ]
  },
  {
   "cell_type": "code",
   "execution_count": 19,
   "id": "36355c65",
   "metadata": {},
   "outputs": [],
   "source": [
    "import sys\n",
    "sys.path.append('..')\n",
    "import grpc\n",
    "import book_pb2\n",
    "import book_pb2_grpc"
   ]
  },
  {
   "cell_type": "code",
   "execution_count": 20,
   "id": "bcab4714",
   "metadata": {},
   "outputs": [
    {
     "name": "stdout",
     "output_type": "stream",
     "text": [
      "title: \"Frankenstein\"\n",
      "author: \"Mary Shelley\"\n",
      "page_count: 352\n",
      "\n"
     ]
    }
   ],
   "source": [
    "with grpc.insecure_channel('localhost:50051') as channel:\n",
    "    book = book_pb2.Book(title=\"Frankenstein\", author=\"Mary Shelley\", page_count=352)\n",
    "    stub = book_pb2_grpc.LibraryStub(channel)\n",
    "    book = stub.checkoutBook(book_pb2.checkoutBookRequest(book=book))\n",
    "    print(book)"
   ]
  },
  {
   "cell_type": "markdown",
   "id": "44ea4b30",
   "metadata": {},
   "source": [
    "## Submission\n",
    "\n",
    "- Submit the URL of the GitHub Repository that contains your work to NTU black board.\n",
    "- Should you reference the work of your classmate(s) or online resources, give them credit by adding either the name of your classmate or URL."
   ]
  }
 ],
 "metadata": {
  "jupytext": {
   "cell_metadata_filter": "-all",
   "main_language": "python",
   "notebook_metadata_filter": "-all"
  },
  "kernelspec": {
   "display_name": "bde",
   "language": "python",
   "name": "python3"
  },
  "language_info": {
   "codemirror_mode": {
    "name": "ipython",
    "version": 3
   },
   "file_extension": ".py",
   "mimetype": "text/x-python",
   "name": "python",
   "nbconvert_exporter": "python",
   "pygments_lexer": "ipython3",
   "version": "3.10.13"
  }
 },
 "nbformat": 4,
 "nbformat_minor": 5
}
